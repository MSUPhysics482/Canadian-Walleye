{
 "cells": [
  {
   "cell_type": "code",
   "execution_count": 142,
   "metadata": {
    "collapsed": false
   },
   "outputs": [],
   "source": [
    "import numpy as np\n",
    "import matplotlib.pyplot as plt\n",
    "%matplotlib inline"
   ]
  },
  {
   "cell_type": "code",
   "execution_count": 143,
   "metadata": {
    "collapsed": false
   },
   "outputs": [],
   "source": [
    "class LWFA():\n",
    "    \n",
    "    def __init__(self,z0,omega=2):\n",
    "        \n",
    "        D = {}\n",
    "        D['e'] = 1\n",
    "        D['m'] = 1\n",
    "        D['omega'] = omega\n",
    "        D['omega_0'] = 1\n",
    "        D['k'] = 1\n",
    "        D['z0'] = z0\n",
    "        D['x'] = 0\n",
    "        self.D = D\n",
    "\n",
    "    def x(self,E,t,z):\n",
    "        \n",
    "        D = self.D\n",
    "        \n",
    "        w = D['omega']\n",
    "        w0 = D['omega_0']\n",
    "        \n",
    "        x = D['e']/(D['m']*(w**2-w0**2)) * E\n",
    "        \n",
    "        return x"
   ]
  },
  {
   "cell_type": "markdown",
   "metadata": {},
   "source": [
    "From source [sp mangels] we find that the wave packets they used had a width of 35 fs. Knowing this we construct a wave packet with width of sigma_z = c*tou ( tou = 35 fs)\n",
    "\n",
    "to encapsulate the entire region we extend the width of the entire region to 6 sigma to hold ~ 99.7% attentuation"
   ]
  },
  {
   "cell_type": "code",
   "execution_count": 148,
   "metadata": {
    "collapsed": false
   },
   "outputs": [],
   "source": [
    "class region():\n",
    "    def __init__(self,name,N = 50):\n",
    "        self.name = name\n",
    "        self.width = 6 * 3*10**8 * 35*10**(-15)\n",
    "        self.N = N\n",
    "        self.dz = self.width / self.N\n",
    "        self.c = 3*10**8\n",
    "        \n",
    "        # establish a list of electrons, append N electrons and update their positions\n",
    "        self.electrons = []\n",
    "        [self.electrons.append(LWFA(-self.width/2 + self.dz * i)) for i in np.arange(self.N)]\n",
    "        [self.electrons[i].x(0,0,self.dz * i) for i in np.arange(self.N)] #calculate electron positions\n",
    "        self.positions = -self.width/2.0 + self.dz * np.arange(self.N)  #create a vector holding the positions of all the electrons\n",
    "        self.amplitudes = np.zeros(self.N)   #creates an amplitude storage vector\n",
    "        \n",
    "        #establish the 'amplitude' of positive ions (they're in the same orginal places as the electons)\n",
    "        self.proton_amp = np.zeros(self.N)\n",
    "        \n",
    "    def wave(self,w,z,t):\n",
    "        sigma = self.c * 35*10**(-15)\n",
    "        exponent = z**2 / (2 * sigma**2)\n",
    "        E = np.exp(-exponent)*np.cos(w*(z - t))\n",
    "        return E\n",
    "    \n",
    "    def update_x(self):\n",
    "        for i in np.arange(self.N):\n",
    "            z = self.positions[i]\n",
    "            t = 0\n",
    "            w = np.linspace(-np.pi/2,np.pi/2,3)\n",
    "            E = 0\n",
    "            for j in w:\n",
    "                E += self.wave(j,z,t)\n",
    "            self.amplitudes[i] =(-1)**i * self.electrons[i].x(E,t,z)\n",
    "            \n"
   ]
  },
  {
   "cell_type": "code",
   "execution_count": 149,
   "metadata": {
    "collapsed": false
   },
   "outputs": [],
   "source": [
    "region1 = region('region1')\n",
    "region1.update_x()"
   ]
  },
  {
   "cell_type": "code",
   "execution_count": 150,
   "metadata": {
    "collapsed": false
   },
   "outputs": [
    {
     "data": {
      "image/png": "[encoded data removed]",
      "text/plain": [
       "<matplotlib.figure.Figure at 0x27a7b30f780>"
      ]
     },
     "metadata": {},
     "output_type": "display_data"
    }
   ],
   "source": [
    "fig = plt.figure()\n",
    "hold = True\n",
    "plt.xlim([-region1.width/2,region1.width/2])\n",
    "plt.scatter(region1.positions, region1.amplitudes, color='b', marker='_', label = 'electrons')\n",
    "plt.scatter(region1.positions, region1.proton_amp, color='r', marker='+', label = 'protons')\n",
    "plt.legend()\n",
    "plt.title('Electron positions for 35 fs laser pulse')\n",
    "plt.ylabel('transverse displacement [ARB. Units]')\n",
    "plt.xlabel('longitudinal position [m]')\n",
    "plt.show()"
   ]
  },
  {
   "cell_type": "markdown",
   "metadata": {},
   "source": [
    "The plot above represents the distribution of electrons for a gaussian wave packet that has been fully immersed in the plasma. This snapshot in time displaces the amplitude of displacement for electrons placed along the z-axis at x = 0"
   ]
  },
  {
   "cell_type": "code",
   "execution_count": null,
   "metadata": {
    "collapsed": true
   },
   "outputs": [],
   "source": []
  }
 ],
 "metadata": {
  "anaconda-cloud": {},
  "kernelspec": {
   "display_name": "Python [default]",
   "language": "python",
   "name": "python3"
  },
  "language_info": {
   "codemirror_mode": {
    "name": "ipython",
    "version": 3
   },
   "file_extension": ".py",
   "mimetype": "text/x-python",
   "name": "python",
   "nbconvert_exporter": "python",
   "pygments_lexer": "ipython3",
   "version": "3.5.2"
  }
 },
 "nbformat": 4,
 "nbformat_minor": 1
}
