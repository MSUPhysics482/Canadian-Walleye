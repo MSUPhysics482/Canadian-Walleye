{
 "cells": [
  {
   "cell_type": "code",
   "execution_count": 1,
   "metadata": {
    "collapsed": true
   },
   "outputs": [],
   "source": [
    "# 4/2/17\n",
    "# Motion of a single electron with incident E&M plane wave\n",
    "\n",
    "import numpy as np\n",
    "import matplotlib.pyplot as plt\n",
    "%matplotlib inline"
   ]
  },
  {
   "cell_type": "code",
   "execution_count": 2,
   "metadata": {
    "collapsed": true
   },
   "outputs": [],
   "source": [
    "class LWFA(object):\n",
    "    \n",
    "    def __init__(self,omega=2):\n",
    "        \n",
    "        D = {}\n",
    "        D['e'] = 1\n",
    "        D['m'] = 1\n",
    "        D['omega'] = omega\n",
    "        D['omega_0'] = 1\n",
    "        D['k'] = 1\n",
    "        \n",
    "        self.D = D\n",
    "        \n",
    "    def E0(self,z):\n",
    "        \n",
    "        D = self.D\n",
    "        k = D['k']\n",
    "        \n",
    "        E0 = np.cos(k*z)\n",
    "        \n",
    "        return E0\n",
    "\n",
    "    def x(self,t,z):\n",
    "        \n",
    "        D = self.D\n",
    "        \n",
    "        w = D['omega']\n",
    "        w0 = D['omega_0']\n",
    "        \n",
    "        x = D['e']*self.E0(z)/(D['m']*(w**2-w0**2))*np.cos(w*t)\n",
    "        \n",
    "        return x"
   ]
  },
  {
   "cell_type": "code",
   "execution_count": 3,
   "metadata": {
    "collapsed": false
   },
   "outputs": [
    {
     "data": {
      "text/plain": [
       "<matplotlib.text.Text at 0x111466d10>"
      ]
     },
     "execution_count": 3,
     "metadata": {},
     "output_type": "execute_result"
    },
    {
     "data": {
      "image/png": "[encoded data removed]",
      "text/plain": [
       "<matplotlib.figure.Figure at 0x10f059910>"
      ]
     },
     "metadata": {},
     "output_type": "display_data"
    }
   ],
   "source": [
    "lwfa = LWFA()\n",
    "    \n",
    "# Position of one electron\n",
    "x = lambda t: lwfa.x(t,1)\n",
    "    \n",
    "t = np.linspace(0,1,100)\n",
    "position = [x(it) for it in t]\n",
    "    \n",
    "plt.plot(t,position,label=\"Position of a single electron\")\n",
    "plt.legend()\n",
    "plt.xlabel('t [sec]')\n",
    "plt.ylabel('Position [arbitrary units]')"
   ]
  }
 ],
 "metadata": {
  "kernelspec": {
   "display_name": "Python [Root]",
   "language": "python",
   "name": "Python [Root]"
  },
  "language_info": {
   "codemirror_mode": {
    "name": "ipython",
    "version": 2
   },
   "file_extension": ".py",
   "mimetype": "text/x-python",
   "name": "python",
   "nbconvert_exporter": "python",
   "pygments_lexer": "ipython2",
   "version": "2.7.12"
  }
 },
 "nbformat": 4,
 "nbformat_minor": 0
}
