{
 "cells": [
  {
   "cell_type": "code",
   "execution_count": 1,
   "metadata": {
    "collapsed": false
   },
   "outputs": [],
   "source": [
    "import numpy as np\n",
    "import matplotlib.pyplot as plt\n",
    "%matplotlib inline"
   ]
  },
  {
   "cell_type": "code",
   "execution_count": 2,
   "metadata": {
    "collapsed": false
   },
   "outputs": [],
   "source": [
    "class LWFA():\n",
    "    \n",
    "    def __init__(self,z0,omega=2):\n",
    "        \n",
    "        D = {}\n",
    "        D['e'] = 1\n",
    "        D['m'] = 1\n",
    "        D['omega'] = omega\n",
    "        D['omega_0'] = 1\n",
    "        D['k'] = 1\n",
    "        D['z0'] = z0\n",
    "        D['x'] = 0\n",
    "        self.D = D\n",
    "\n",
    "    def x(self,E,t,z):\n",
    "        \n",
    "        D = self.D\n",
    "        \n",
    "        w = D['omega']\n",
    "        w0 = D['omega_0']\n",
    "        \n",
    "        x = D['e']/(D['m']*(w**2-w0**2)) * E\n",
    "        \n",
    "        return x"
   ]
  },
  {
   "cell_type": "markdown",
   "metadata": {},
   "source": [
    "From source [sp mangels] we find that the wave packets they used had a width of 35 fs. Knowing this we construct a wave packet with width of sigma_z = c*tou ( tou = 35 fs)\n",
    "\n",
    "to encapsulate the entire region we extend the width of the entire region to 6 sigma to hold ~ 99.7% attentuation"
   ]
  },
  {
   "cell_type": "code",
   "execution_count": 3,
   "metadata": {
    "collapsed": false
   },
   "outputs": [],
   "source": [
    "class region():\n",
    "    def __init__(self,name,N = 50):\n",
    "        self.name = name\n",
    "        self.width = 6 * 3*10**8 * 35*10**(-15)\n",
    "        self.N = N\n",
    "        self.dz = self.width / self.N\n",
    "        self.c = 3*10**8\n",
    "        \n",
    "        # establish a list of electrons, append N electrons and update their positions\n",
    "        self.electrons = []\n",
    "        [self.electrons.append(LWFA(-self.width/2 + self.dz * i)) for i in np.arange(self.N)]\n",
    "        [self.electrons[i].x(0,0,self.dz * i) for i in np.arange(self.N)] #calculate electron positions\n",
    "        self.positions = -self.width/2.0 + self.dz * np.arange(self.N)  #create a vector holding the positions of all the electrons\n",
    "        self.amplitudes = np.zeros(self.N)   #creates an amplitude storage vector\n",
    "        \n",
    "        #establish the 'amplitude' of positive ions (they're in the same orginal places as the electons)\n",
    "        self.proton_amp = np.zeros(self.N)\n",
    "        \n",
    "    def wave(self,w,z,t):\n",
    "        sigma = self.c * 35*10**(-15)\n",
    "        exponent = z**2 / (2 * sigma**2)\n",
    "        E = np.exp(-exponent)*np.cos(w*(z - t))\n",
    "        return E\n",
    "    \n",
    "    def update_x(self):\n",
    "        for i in np.arange(self.N):\n",
    "            z = self.positions[i]\n",
    "            t = 0\n",
    "            w = np.linspace(-np.pi/2,np.pi/2,3)\n",
    "            E = 0\n",
    "            for j in w:\n",
    "                E += self.wave(j,z,t)\n",
    "            self.amplitudes[i] =(-1)**i * self.electrons[i].x(E,t,z)\n",
    "            \n"
   ]
  },
  {
   "cell_type": "code",
   "execution_count": 4,
   "metadata": {
    "collapsed": false
   },
   "outputs": [],
   "source": [
    "region1 = region('region1')\n",
    "region1.update_x()"
   ]
  },
  {
   "cell_type": "code",
   "execution_count": 502,
   "metadata": {
    "collapsed": false
   },
   "outputs": [
    {
     "data": {
      "image/png": "[encoded data removed]",
      "text/plain": [
       "<matplotlib.figure.Figure at 0x23901144588>"
      ]
     },
     "metadata": {},
     "output_type": "display_data"
    }
   ],
   "source": [
    "fig = plt.figure('charge dist')\n",
    "hold = True\n",
    "sigma = region1.c * 35*10**(-15)\n",
    "plt.xlim([-3.5,3.5])\n",
    "plt.scatter(region1.positions/sigma, region1.amplitudes, color='b', marker='_', label = 'electrons')\n",
    "plt.scatter(region1.positions/sigma, region1.proton_amp, color='r', marker='+', label = 'protons')\n",
    "plt.legend()\n",
    "plt.ylabel('transverse displacement [a.u.]')\n",
    "plt.xlabel('longitudinal position [std. dev.]')\n",
    "plt.show()"
   ]
  },
  {
   "cell_type": "markdown",
   "metadata": {},
   "source": [
    "The plot above represents the distribution of electrons for a gaussian wave packet that has been fully immersed in the plasma. This snapshot in time displaces the amplitude of displacement for electrons placed along the z-axis at x = 0"
   ]
  },
  {
   "cell_type": "code",
   "execution_count": 643,
   "metadata": {
    "collapsed": false
   },
   "outputs": [],
   "source": [
    "class elec:\n",
    "    def __init__(self,positions,amplitudes):\n",
    "        self.xpos = positions\n",
    "        self.ypos = amplitudes\n",
    "        self.pos = np.array([self.xpos[5],0])\n",
    "        self.vel = np.array([0.0,0.0])\n",
    "        self.acc = np.array([0.0,0.0])\n",
    "        self.pos_old = np.array([0.0,0.0])\n",
    "        self.vel_old = np.array([0.0,0.0])\n",
    "        self.acc_old = np.array([0.0,0.0])\n",
    "        self.mass = 9.11*10**(-31) #kg\n",
    "    def update(self):\n",
    "        self.pos_old = self.pos\n",
    "        self.vel_old = self.vel\n",
    "        self.acc_old = self.acc\n",
    "######################################\n",
    "def accel(particle,region):\n",
    "    ax = 0\n",
    "    ay = 0\n",
    "    \n",
    "    x = region.positions/sigma\n",
    "    y = region.amplitudes/sigma\n",
    "    \n",
    "    x0 = particle.pos[0]/sigma\n",
    "    y0 = particle.pos[1]/sigma\n",
    "    \n",
    "    dx = (x - x0)\n",
    "    dy = (y - y0)\n",
    "    \n",
    "    r = (dx**2 + (dy)**2)**(1/2)\n",
    "    \n",
    "    for i in np.arange(region1.N):\n",
    "        ay += dy[i] / r[i]**3\n",
    "        if dx[i] == 0:\n",
    "            ax += 0\n",
    "        else:  \n",
    "            ax += (-dx[i]/(np.abs(dx[i]))**3 + dx[i]/r[i]**3)\n",
    "    print('acc',ax*10**9,ay*10**9)\n",
    "    return np.array([-ax*10**(9),-ay*10**9])"
   ]
  },
  {
   "cell_type": "code",
   "execution_count": 647,
   "metadata": {
    "collapsed": false
   },
   "outputs": [
    {
     "name": "stdout",
     "output_type": "stream",
     "text": [
      "acc -0.0639228748204 -1.58279304426e-05\n",
      "acc -0.0639228748204 -1.58279304426e-05\n",
      "acc -0.0639235114657 -1.58285725791e-05\n",
      "acc -0.0639247847798 -1.58298568779e-05\n",
      "acc -0.0639266948161 -1.58317834129e-05\n",
      "acc -0.0639292416578 -1.5834352306e-05\n",
      "acc -0.063932425418 -1.58375637274e-05\n",
      "acc -0.0639362462395 -1.58414178949e-05\n",
      "acc -0.0639407042953 -1.58459150748e-05\n",
      "acc -0.0639457997881 -1.58510555814e-05\n",
      "acc -0.0639515329506 -1.58568397773e-05\n",
      "acc -0.0639579040454 -1.58632680731e-05\n",
      "acc -0.0639649133651 -1.58703409278e-05\n",
      "acc -0.0639725612324 -1.58780588489e-05\n",
      "acc -0.0639808479998 -1.5886422392e-05\n",
      "acc -0.0639897740503 -1.58954321615e-05\n",
      "acc -0.0639993397966 -1.590508881e-05\n",
      "acc -0.0640095456818 -1.59153930391e-05\n",
      "acc -0.0640203921791 -1.5926345599e-05\n",
      "acc -0.0640318797921 -1.59379472885e-05\n",
      "acc -0.0640440090546 -1.59501989557e-05\n",
      "acc -0.0640567805309 -1.59631014976e-05\n",
      "acc -0.0640701948155 -1.59766558602e-05\n",
      "acc -0.0640842525337 -1.59908630391e-05\n",
      "acc -0.0640989543411 -1.60057240791e-05\n",
      "acc -0.0641143009241 -1.60212400746e-05\n",
      "acc -0.0641302929998 -1.60374121698e-05\n",
      "acc -0.0641469313159 -1.60542415586e-05\n",
      "acc -0.0641642166512 -1.6071729485e-05\n",
      "acc -0.0641821498154 -1.60898772432e-05\n",
      "acc -0.0642007316491 -1.61086861777e-05\n",
      "acc -0.0642199630242 -1.61281576835e-05\n",
      "acc -0.0642398448436 -1.61482932064e-05\n",
      "acc -0.0642603780417 -1.61690942431e-05\n",
      "acc -0.0642815635844 -1.61905623411e-05\n",
      "acc -0.0643034024688 -1.62126990998e-05\n",
      "acc -0.0643258957238 -1.62355061694e-05\n",
      "acc -0.0643490444102 -1.62589852526e-05\n",
      "acc -0.0643728496205 -1.62831381033e-05\n",
      "acc -0.064397312479 -1.63079665283e-05\n",
      "acc -0.0644224341424 -1.63334723863e-05\n",
      "acc -0.0644482157994 -1.63596575891e-05\n",
      "acc -0.0644746586712 -1.63865241011e-05\n",
      "acc -0.0645017640114 -1.64140739401e-05\n",
      "acc -0.0645295331062 -1.64423091774e-05\n",
      "acc -0.0645579672747 -1.6471231938e-05\n",
      "acc -0.0645870678686 -1.65008444009e-05\n",
      "acc -0.0646168362729 -1.65311487996e-05\n",
      "acc -0.0646472739057 -1.65621474221e-05\n",
      "acc -0.0646783822186 -1.65938426113e-05\n",
      "acc -0.0647101626965 -1.66262367656e-05\n",
      "acc -0.0647426168581 -1.66593323388e-05\n",
      "acc -0.064775746256 -1.66931318406e-05\n",
      "acc -0.0648095524765 -1.67276378371e-05\n",
      "acc -0.0648440371406 -1.6762852951e-05\n",
      "acc -0.0648792019032 -1.67987798618e-05\n",
      "acc -0.0649150484539 -1.68354213066e-05\n",
      "acc -0.0649515785172 -1.68727800801e-05\n",
      "acc -0.0649887938524 -1.6910859035e-05\n",
      "acc -0.0650266962539 -1.69496610826e-05\n",
      "acc -0.0650652875514 -1.6989189193e-05\n",
      "acc -0.0651045696102 -1.70294463956e-05\n",
      "acc -0.0651445443313 -1.70704357797e-05\n",
      "acc -0.0651852136517 -1.71121604945e-05\n",
      "acc -0.0652265795445 -1.71546237499e-05\n",
      "acc -0.0652686440192 -1.71978288167e-05\n",
      "acc -0.065311409122 -1.72417790273e-05\n",
      "acc -0.0653548769357 -1.72864777759e-05\n",
      "acc -0.0653990495804 -1.73319285193e-05\n",
      "acc -0.0654439292135 -1.73781347769e-05\n",
      "acc -0.0654895180298 -1.74251001318e-05\n",
      "acc -0.0655358182622 -1.74728282307e-05\n",
      "acc -0.0655828321813 -1.75213227849e-05\n",
      "acc -0.0656305620962 -1.75705875703e-05\n",
      "acc -0.0656790103547 -1.76206264286e-05\n",
      "acc -0.0657281793432 -1.76714432673e-05\n",
      "acc -0.0657780714874 -1.77230420604e-05\n",
      "acc -0.0658286892524 -1.7775426849e-05\n",
      "acc -0.0658800351429 -1.78286017419e-05\n",
      "acc -0.0659321117036 -1.78825709162e-05\n",
      "acc -0.0659849215194 -1.79373386177e-05\n",
      "acc -0.0660384672159 -1.79929091618e-05\n",
      "acc -0.0660927514596 -1.80492869337e-05\n",
      "acc -0.0661477769579 -1.81064763896e-05\n",
      "acc -0.06620354646 -1.81644820568e-05\n",
      "acc -0.0662600627567 -1.82233085347e-05\n",
      "acc -0.0663173286811 -1.82829604953e-05\n",
      "acc -0.0663753471086 -1.83434426837e-05\n",
      "acc -0.0664341209576 -1.84047599194e-05\n",
      "acc -0.0664936531895 -1.84669170962e-05\n",
      "acc -0.0665539468093 -1.85299191835e-05\n",
      "acc -0.0666150048657 -1.85937712269e-05\n",
      "acc -0.0666768304518 -1.86584783485e-05\n",
      "acc -0.0667394267052 -1.87240457485e-05\n",
      "acc -0.0668027968085 -1.87904787049e-05\n",
      "acc -0.0668669439894 -1.88577825754e-05\n",
      "acc -0.0669318715217 -1.89259627973e-05\n",
      "acc -0.0669975827251 -1.89950248886e-05\n",
      "acc -0.0670640809658 -1.9064974449e-05\n",
      "acc -0.0671313696569 -1.91358171605e-05\n",
      "acc -0.0671994522589 -1.92075587883e-05\n"
     ]
    }
   ],
   "source": [
    "electron = elec(region1.positions/sigma,region1.amplitudes)\n",
    "electron.acc = accel(electron,region1)\n",
    "time = 100\n",
    "dt = 1/time\n",
    "xvec = []\n",
    "yvec = []\n",
    "for t in np.arange(0,time):\n",
    "    electron.update()\n",
    "    xvec.append(electron.pos_old[0])\n",
    "    yvec.append(electron.pos_old[1])\n",
    "    \n",
    "    electron.pos = electron.pos_old + dt * electron.vel_old\n",
    "    electron.acc = accel(electron,region1)\n",
    "    electron.vel = electron.vel_old + electron.acc_old * dt\n",
    "    #print('vel',electron.vel)"
   ]
  },
  {
   "cell_type": "code",
   "execution_count": 648,
   "metadata": {
    "collapsed": false
   },
   "outputs": [
    {
     "data": {
      "image/png": "[encoded data removed]",
      "text/plain": [
       "<matplotlib.figure.Figure at 0x239012b7cc0>"
      ]
     },
     "metadata": {},
     "output_type": "display_data"
    }
   ],
   "source": [
    "for i in np.arange(len(yvec)):\n",
    "    yvec[i] = yvec[i]/sigma\n",
    "plt.figure('charge dist')\n",
    "plt.hold(True)\n",
    "plt.plot(xvec,yvec)\n",
    "plt.xlim([-3.5,3.5])\n",
    "plt.scatter(region1.positions/sigma, region1.amplitudes/np.max(region1.amplitudes), color='b', marker='_', label = 'electrons')\n",
    "plt.scatter(region1.positions/sigma, region1.proton_amp, color='r', marker='+', label = 'protons')\n",
    "plt.legend()\n",
    "plt.show()"
   ]
  },
  {
   "cell_type": "code",
   "execution_count": 649,
   "metadata": {
    "collapsed": false
   },
   "outputs": [
    {
     "name": "stdout",
     "output_type": "stream",
     "text": [
      "-2.4 | 0.0\n",
      "-2.4 | 0.0\n",
      "-2.39999360771 | 0.000150742194691\n",
      "-2.39998082314 | 0.000452226584074\n",
      "-2.39996164621 | 0.000904459283734\n",
      "-2.39993607681 | 0.00150745252509\n",
      "-2.39990411473 | 0.00226122465609\n",
      "-2.39986575973 | 0.00316580014238\n",
      "-2.39982101149 | 0.00422120956894\n",
      "-2.39976986963 | 0.00542748964211\n",
      "-2.39971233369 | 0.00678468319219\n",
      "-2.39964840318 | 0.00829283917638\n",
      "-2.39957807751 | 0.00995201268225\n",
      "-2.39950135605 | 0.0117622649317\n",
      "-2.3994182381 | 0.0137236632852\n",
      "-2.39932872289 | 0.0158362812468\n",
      "-2.3992328096 | 0.0181001984692\n",
      "-2.39913049733 | 0.0205155007599\n",
      "-2.39902178513 | 0.0230822800868\n",
      "-2.39890667197 | 0.0258006345856\n",
      "-2.39878515677 | 0.0286706685662\n",
      "-2.39865723839 | 0.0316924925211\n",
      "-2.3985229156 | 0.0348662231326\n",
      "-2.39838218714 | 0.0381919832822\n",
      "-2.39823505165 | 0.0416699020591\n",
      "-2.39808150774 | 0.0453001147697\n",
      "-2.39792155394 | 0.0490827629476\n",
      "-2.39775518871 | 0.0530179943644\n",
      "-2.39758241044 | 0.05710596304\n",
      "-2.39740321749 | 0.0613468292542\n",
      "-2.39721760811 | 0.0657407595587\n",
      "-2.39702558052 | 0.0702879267894\n",
      "-2.39682713285 | 0.0749885100789\n",
      "-2.39662226319 | 0.0798426948701\n",
      "-2.39641096954 | 0.08485067293\n",
      "-2.39619324985 | 0.0900126423636\n",
      "-2.39596910201 | 0.0953288076291\n",
      "-2.39573852383 | 0.100799379553\n",
      "-2.39550151306 | 0.106424575344\n",
      "-2.39525806738 | 0.112204618615\n",
      "-2.39500818442 | 0.118139739391\n",
      "-2.39475186173 | 0.124230174134\n",
      "-2.3944890968 | 0.130476165757\n",
      "-2.39421988704 | 0.136877963643\n",
      "-2.39394422982 | 0.143435823663\n",
      "-2.39366212242 | 0.150150008196\n",
      "-2.39337356207 | 0.157020786151\n",
      "-2.39307854592 | 0.164048432981\n",
      "-2.39277707106 | 0.17123323071\n",
      "-2.39246913452 | 0.178575467952\n",
      "-2.39215473325 | 0.18607543993\n",
      "-2.39183386415 | 0.193733448506\n",
      "-2.39150652403 | 0.201549802193\n",
      "-2.39117270964 | 0.209524816188\n",
      "-2.39083241769 | 0.217658812391\n",
      "-2.39048564477 | 0.225952119431\n",
      "-2.39013238746 | 0.234405072689\n",
      "-2.38977264222 | 0.243018014327\n",
      "-2.38940640548 | 0.251791293311\n",
      "-2.38903367358 | 0.260725265438\n",
      "-2.3886544428 | 0.269820293366\n",
      "-2.38826870935 | 0.279076746637\n",
      "-2.38787646937 | 0.288495001711\n",
      "-2.38747771894 | 0.298075441987\n",
      "-2.38707245405 | 0.307818457843\n",
      "-2.38666067064 | 0.317724446656\n",
      "-2.38624236457 | 0.327793812838\n",
      "-2.38581753164 | 0.338026967866\n",
      "-2.38538616757 | 0.348424330313\n",
      "-2.38494826801 | 0.358986325882\n",
      "-2.38450382854 | 0.369713387436\n",
      "-2.38405284468 | 0.380605955037\n",
      "-2.38359531187 | 0.391664475971\n",
      "-2.38313122548 | 0.402889404794\n",
      "-2.3826605808 | 0.414281203358\n",
      "-2.38218337307 | 0.42584034085\n",
      "-2.38169959744 | 0.437567293833\n",
      "-2.38120924899 | 0.449462546275\n",
      "-2.38071232273 | 0.461526589594\n",
      "-2.3802088136 | 0.473759922692\n",
      "-2.37969871647 | 0.486163051998\n",
      "-2.37918202613 | 0.498736491503\n",
      "-2.3786587373 | 0.511480762804\n",
      "-2.37812884461 | 0.524396395145\n",
      "-2.37759234266 | 0.537483925456\n",
      "-2.37704922593 | 0.5507438984\n",
      "-2.37649948884 | 0.564176866411\n",
      "-2.37594312574 | 0.577783389742\n",
      "-2.37538013092 | 0.591564036505\n",
      "-2.37481049855 | 0.605519382723\n",
      "-2.37423422278 | 0.619650012369\n",
      "-2.37365129764 | 0.633956517415\n",
      "-2.37306171711 | 0.648439497883\n",
      "-2.37246547507 | 0.663099561885\n",
      "-2.37186256535 | 0.677937325682\n",
      "-2.37125298169 | 0.692953413724\n",
      "-2.37063671775 | 0.708148458706\n",
      "-2.37001376712 | 0.723523101617\n",
      "-2.3693841233 | 0.739077991793\n",
      "-2.36874777972 | 0.754813786968\n"
     ]
    }
   ],
   "source": [
    "[print(xvec[i],'|',yvec[i]) for i in np.arange(len(xvec))];"
   ]
  },
  {
   "cell_type": "code",
   "execution_count": null,
   "metadata": {
    "collapsed": true
   },
   "outputs": [],
   "source": []
  },
  {
   "cell_type": "code",
   "execution_count": null,
   "metadata": {
    "collapsed": true
   },
   "outputs": [],
   "source": []
  }
 ],
 "metadata": {
  "anaconda-cloud": {},
  "kernelspec": {
   "display_name": "Python [default]",
   "language": "python",
   "name": "python3"
  },
  "language_info": {
   "codemirror_mode": {
    "name": "ipython",
    "version": 3
   },
   "file_extension": ".py",
   "mimetype": "text/x-python",
   "name": "python",
   "nbconvert_exporter": "python",
   "pygments_lexer": "ipython3",
   "version": "3.5.2"
  }
 },
 "nbformat": 4,
 "nbformat_minor": 1
}
